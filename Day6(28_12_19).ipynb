{
  "nbformat": 4,
  "nbformat_minor": 0,
  "metadata": {
    "colab": {
      "name": "Day6(28-12-19).ipynb",
      "provenance": [],
      "collapsed_sections": [],
      "include_colab_link": true
    },
    "kernelspec": {
      "name": "python3",
      "display_name": "Python 3"
    }
  },
  "cells": [
    {
      "cell_type": "markdown",
      "metadata": {
        "id": "view-in-github",
        "colab_type": "text"
      },
      "source": [
        "<a href=\"https://colab.research.google.com/github/rithwikbojja/crt_python_files/blob/master/Day6(28_12_19).ipynb\" target=\"_parent\"><img src=\"https://colab.research.google.com/assets/colab-badge.svg\" alt=\"Open In Colab\"/></a>"
      ]
    },
    {
      "cell_type": "code",
      "metadata": {
        "id": "F6rC1JK1k0_f",
        "colab_type": "code",
        "colab": {
          "base_uri": "https://localhost:8080/",
          "height": 51
        },
        "outputId": "c39a01d5-72d6-4ce3-84e4-05ba343f2895"
      },
      "source": [
        "def palin(n):\n",
        "  sum=0\n",
        "  s=n\n",
        "  while n!=0:\n",
        "    r=n%10\n",
        "    n=n//10\n",
        "    sum=sum*10+r\n",
        "  if sum==s:\n",
        "    x=\"palin\"\n",
        "    return x\n",
        "  else:\n",
        "    y=\"not\"\n",
        "    return y\n",
        "print(palin(121))\n",
        "print(palin(123))"
      ],
      "execution_count": 6,
      "outputs": [
        {
          "output_type": "stream",
          "text": [
            "palin\n",
            "not\n"
          ],
          "name": "stdout"
        }
      ]
    },
    {
      "cell_type": "code",
      "metadata": {
        "id": "pYvbQ9MXpFef",
        "colab_type": "code",
        "colab": {}
      },
      "source": [
        "#types of arguments\n",
        "#1.Required positional arguments\n",
        "#2.default arg                  def add(a,b=99)\n",
        "#3.keyword arg                                   add(b=10,a=30)\n",
        "#4.variable lenght arg                                          def add(*a)  add(10,7,9,..,.,.,)   tuple-type"
      ],
      "execution_count": 0,
      "outputs": []
    },
    {
      "cell_type": "code",
      "metadata": {
        "id": "SaILzBOpuEqu",
        "colab_type": "code",
        "colab": {
          "base_uri": "https://localhost:8080/",
          "height": 51
        },
        "outputId": "9f566daf-c745-4e01-8fca-5166598f5345"
      },
      "source": [
        "def add(*a):\n",
        "  print(type(a))                       #variable lenght arguments\n",
        "  return sum(a)\n",
        "add(10,20,30,40,50,100)  "
      ],
      "execution_count": 9,
      "outputs": [
        {
          "output_type": "stream",
          "text": [
            "<class 'tuple'>\n"
          ],
          "name": "stdout"
        },
        {
          "output_type": "execute_result",
          "data": {
            "text/plain": [
              "250"
            ]
          },
          "metadata": {
            "tags": []
          },
          "execution_count": 9
        }
      ]
    },
    {
      "cell_type": "code",
      "metadata": {
        "id": "y9Fkw8Eawn7K",
        "colab_type": "code",
        "colab": {
          "base_uri": "https://localhost:8080/",
          "height": 215
        },
        "outputId": "078fc049-a460-45b1-fe33-a3446de27cd8"
      },
      "source": [
        "def add(a,b):\n",
        "  return a+b\n",
        "def add(a,b,c):\n",
        "  return a+b+c                        #no method overloading\n",
        "print(add(10,20))\n",
        "print(add(10,20,30))\n"
      ],
      "execution_count": 10,
      "outputs": [
        {
          "output_type": "error",
          "ename": "TypeError",
          "evalue": "ignored",
          "traceback": [
            "\u001b[0;31m---------------------------------------------------------------------------\u001b[0m",
            "\u001b[0;31mTypeError\u001b[0m                                 Traceback (most recent call last)",
            "\u001b[0;32m<ipython-input-10-3885b679d8e2>\u001b[0m in \u001b[0;36m<module>\u001b[0;34m()\u001b[0m\n\u001b[1;32m      3\u001b[0m \u001b[0;32mdef\u001b[0m \u001b[0madd\u001b[0m\u001b[0;34m(\u001b[0m\u001b[0ma\u001b[0m\u001b[0;34m,\u001b[0m\u001b[0mb\u001b[0m\u001b[0;34m,\u001b[0m\u001b[0mc\u001b[0m\u001b[0;34m)\u001b[0m\u001b[0;34m:\u001b[0m\u001b[0;34m\u001b[0m\u001b[0;34m\u001b[0m\u001b[0m\n\u001b[1;32m      4\u001b[0m   \u001b[0;32mreturn\u001b[0m \u001b[0ma\u001b[0m\u001b[0;34m+\u001b[0m\u001b[0mb\u001b[0m\u001b[0;34m+\u001b[0m\u001b[0mc\u001b[0m\u001b[0;34m\u001b[0m\u001b[0;34m\u001b[0m\u001b[0m\n\u001b[0;32m----> 5\u001b[0;31m \u001b[0mprint\u001b[0m\u001b[0;34m(\u001b[0m\u001b[0madd\u001b[0m\u001b[0;34m(\u001b[0m\u001b[0;36m10\u001b[0m\u001b[0;34m,\u001b[0m\u001b[0;36m20\u001b[0m\u001b[0;34m)\u001b[0m\u001b[0;34m)\u001b[0m\u001b[0;34m\u001b[0m\u001b[0;34m\u001b[0m\u001b[0m\n\u001b[0m\u001b[1;32m      6\u001b[0m \u001b[0mprint\u001b[0m\u001b[0;34m(\u001b[0m\u001b[0madd\u001b[0m\u001b[0;34m(\u001b[0m\u001b[0;36m10\u001b[0m\u001b[0;34m,\u001b[0m\u001b[0;36m20\u001b[0m\u001b[0;34m,\u001b[0m\u001b[0;36m30\u001b[0m\u001b[0;34m)\u001b[0m\u001b[0;34m)\u001b[0m\u001b[0;34m\u001b[0m\u001b[0;34m\u001b[0m\u001b[0m\n",
            "\u001b[0;31mTypeError\u001b[0m: add() missing 1 required positional argument: 'c'"
          ]
        }
      ]
    },
    {
      "cell_type": "code",
      "metadata": {
        "id": "vDZL96lbyqp5",
        "colab_type": "code",
        "colab": {
          "base_uri": "https://localhost:8080/",
          "height": 34
        },
        "outputId": "29681816-f6a2-4749-faed-769e5b43d9bb"
      },
      "source": [
        "#Anonymous functions or lambda functions\n",
        "s=lambda a,b:a+b\n",
        "s(10,20)"
      ],
      "execution_count": 11,
      "outputs": [
        {
          "output_type": "execute_result",
          "data": {
            "text/plain": [
              "30"
            ]
          },
          "metadata": {
            "tags": []
          },
          "execution_count": 11
        }
      ]
    },
    {
      "cell_type": "code",
      "metadata": {
        "id": "M-9QPgBM1Gam",
        "colab_type": "code",
        "colab": {
          "base_uri": "https://localhost:8080/",
          "height": 68
        },
        "outputId": "afc805d6-1e00-42f2-fe6c-539329a3bce8"
      },
      "source": [
        "import math\n",
        "print(math.sqrt(16))\n",
        "print(math.pow(2,5))\n",
        "\n",
        "import math as m                                  #alias names\n",
        "print(m.sqrt(16))\n",
        "\n",
        "\n"
      ],
      "execution_count": 15,
      "outputs": [
        {
          "output_type": "stream",
          "text": [
            "4.0\n",
            "32.0\n",
            "4.0\n"
          ],
          "name": "stdout"
        }
      ]
    },
    {
      "cell_type": "code",
      "metadata": {
        "id": "GJ8NJpiY2nn3",
        "colab_type": "code",
        "colab": {
          "base_uri": "https://localhost:8080/",
          "height": 34
        },
        "outputId": "9fe4d228-7bbc-487a-da1c-6b1139da0a74"
      },
      "source": [
        "from math import *\n",
        "pow(2,5)"
      ],
      "execution_count": 16,
      "outputs": [
        {
          "output_type": "execute_result",
          "data": {
            "text/plain": [
              "32.0"
            ]
          },
          "metadata": {
            "tags": []
          },
          "execution_count": 16
        }
      ]
    },
    {
      "cell_type": "markdown",
      "metadata": {
        "id": "491mIVa53TxZ",
        "colab_type": "text"
      },
      "source": [
        "##built-in modules\n",
        "####1.math\n",
        "####2.statistics\n",
        "####3.os\n",
        "####4.sys\n",
        "####5.re\n",
        "####6.random\n",
        "####7.smtplib\n",
        "####8.tkinter\n",
        "####9.turtle\n"
      ]
    },
    {
      "cell_type": "code",
      "metadata": {
        "id": "BK-ROQ8e4LVL",
        "colab_type": "code",
        "colab": {}
      },
      "source": [
        ""
      ],
      "execution_count": 0,
      "outputs": []
    }
  ]
}
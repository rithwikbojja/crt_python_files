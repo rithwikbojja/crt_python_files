{
  "nbformat": 4,
  "nbformat_minor": 0,
  "metadata": {
    "colab": {
      "name": "Day5(27/12/19).ipynb",
      "provenance": [],
      "collapsed_sections": [],
      "include_colab_link": true
    },
    "kernelspec": {
      "name": "python3",
      "display_name": "Python 3"
    }
  },
  "cells": [
    {
      "cell_type": "markdown",
      "metadata": {
        "id": "view-in-github",
        "colab_type": "text"
      },
      "source": [
        "<a href=\"https://colab.research.google.com/github/rithwikbojja/crt_python_files/blob/master/Day5(27_12_19).ipynb\" target=\"_parent\"><img src=\"https://colab.research.google.com/assets/colab-badge.svg\" alt=\"Open In Colab\"/></a>"
      ]
    },
    {
      "cell_type": "code",
      "metadata": {
        "id": "r7Ci9BY4bJ3M",
        "colab_type": "code",
        "outputId": "02e9def1-782e-41bb-d499-6af0a93a904a",
        "colab": {
          "base_uri": "https://localhost:8080/",
          "height": 51
        }
      },
      "source": [
        "n=input()\n",
        "c=0\n",
        "i=0\n",
        "while i<len(n):\n",
        "    if n[i].isdigit():\n",
        "        c+=1\n",
        "    i+=1\n",
        "print(c)"
      ],
      "execution_count": 0,
      "outputs": [
        {
          "output_type": "stream",
          "text": [
            "jhnj789\n",
            "3\n"
          ],
          "name": "stdout"
        }
      ]
    },
    {
      "cell_type": "code",
      "metadata": {
        "id": "vztYQP6gfZW0",
        "colab_type": "code",
        "outputId": "5e27c76c-f26c-4b57-ba15-f46a14f920ef",
        "colab": {
          "base_uri": "https://localhost:8080/",
          "height": 51
        }
      },
      "source": [
        "n=input()\n",
        "c=0\n",
        "i=0\n",
        "s=0\n",
        "while i<len(n):\n",
        "    if n[i].isdigit():\n",
        "        c+=1\n",
        "        s=s+int(n[i])\n",
        "    i+=1\n",
        "print(c,s)"
      ],
      "execution_count": 0,
      "outputs": [
        {
          "output_type": "stream",
          "text": [
            "hjhj123\n",
            "3 6\n"
          ],
          "name": "stdout"
        }
      ]
    },
    {
      "cell_type": "code",
      "metadata": {
        "id": "7LaeMz6xhiiz",
        "colab_type": "code",
        "outputId": "4551f314-c877-4758-8bd5-518b97070caa",
        "colab": {
          "base_uri": "https://localhost:8080/",
          "height": 51
        }
      },
      "source": [
        "#for loop\n",
        "# 1 using range()\n",
        "#2 using iterable object\n",
        "n=int(input())\n",
        "for i in range(1,n+1):\n",
        "    print(i,end=\" \")"
      ],
      "execution_count": 0,
      "outputs": [
        {
          "output_type": "stream",
          "text": [
            "3\n",
            "1 2 3 "
          ],
          "name": "stdout"
        }
      ]
    },
    {
      "cell_type": "code",
      "metadata": {
        "id": "DY4mhqPqiwUp",
        "colab_type": "code",
        "outputId": "7704d441-fe67-40ad-8ed7-268b99aaa141",
        "colab": {
          "base_uri": "https://localhost:8080/",
          "height": 51
        }
      },
      "source": [
        "n=int(input())\n",
        "for i in range(1,n+1,2):\n",
        "    print(i,end=\" \")"
      ],
      "execution_count": 0,
      "outputs": [
        {
          "output_type": "stream",
          "text": [
            "10\n",
            "1 3 5 7 9 "
          ],
          "name": "stdout"
        }
      ]
    },
    {
      "cell_type": "code",
      "metadata": {
        "id": "Weef7ACvi4CB",
        "colab_type": "code",
        "outputId": "af1813f7-ed7d-46ae-e749-091f9795ec2f",
        "colab": {
          "base_uri": "https://localhost:8080/",
          "height": 34
        }
      },
      "source": [
        "#input:python\n",
        "#otput:p y t h o n\n",
        "n=\"python\"\n",
        "i=0\n",
        "while i<len(n):\n",
        "    print(n[i],end=\" \")\n",
        "    i=i+1"
      ],
      "execution_count": 0,
      "outputs": [
        {
          "output_type": "stream",
          "text": [
            "p y t h o n "
          ],
          "name": "stdout"
        }
      ]
    },
    {
      "cell_type": "code",
      "metadata": {
        "id": "oYanMHp1j284",
        "colab_type": "code",
        "outputId": "25aa1f45-593f-4841-b828-326ce9f3e583",
        "colab": {
          "base_uri": "https://localhost:8080/",
          "height": 34
        }
      },
      "source": [
        "n=\"python\"\n",
        "for i in range(0,len(n)):\n",
        "    print(n[i],end=\" \")"
      ],
      "execution_count": 0,
      "outputs": [
        {
          "output_type": "stream",
          "text": [
            "p y t h o n "
          ],
          "name": "stdout"
        }
      ]
    },
    {
      "cell_type": "code",
      "metadata": {
        "id": "Odm3D6Q8knBQ",
        "colab_type": "code",
        "outputId": "9299e804-1104-43e7-c313-61862588d7c3",
        "colab": {
          "base_uri": "https://localhost:8080/",
          "height": 34
        }
      },
      "source": [
        "n=\"python\"\n",
        "for i in n:\n",
        "  print(i,end=\" \")"
      ],
      "execution_count": 0,
      "outputs": [
        {
          "output_type": "stream",
          "text": [
            "p y t h o n "
          ],
          "name": "stdout"
        }
      ]
    },
    {
      "cell_type": "code",
      "metadata": {
        "id": "lTo5H1yYlVRn",
        "colab_type": "code",
        "outputId": "0fd2b8a2-1737-4aa5-a2bb-a31cf61dced2",
        "colab": {
          "base_uri": "https://localhost:8080/",
          "height": 68
        }
      },
      "source": [
        "print(1)\n",
        "print()\n",
        "print(2)"
      ],
      "execution_count": 0,
      "outputs": [
        {
          "output_type": "stream",
          "text": [
            "1\n",
            "\n",
            "2\n"
          ],
          "name": "stdout"
        }
      ]
    },
    {
      "cell_type": "markdown",
      "metadata": {
        "id": "qk0xxgCvl1Ow",
        "colab_type": "text"
      },
      "source": [
        "## collection type datatype \n",
        "##list\n",
        "###1.for creating a list use []\n",
        "###2.list are mutable\n",
        "###3.list are ordered\n",
        "###4.list allows duplicate values\n",
        "###5.lists are indexed\n",
        "###6.it stores heterogeneous values\n"
      ]
    },
    {
      "cell_type": "code",
      "metadata": {
        "id": "Sn89tNoPm6sk",
        "colab_type": "code",
        "outputId": "d985e6d3-9855-47db-e009-8000c45cf170",
        "colab": {
          "base_uri": "https://localhost:8080/",
          "height": 102
        }
      },
      "source": [
        "list1=[23,34,456,56.67,\"string\",True,[1,2,3]]\n",
        "print(list1[-1])\n",
        "print(list1[2:4])\n",
        "print(list1[-3][::-1])\n",
        "print(list1[-1][-1])\n",
        "print(len(list1))"
      ],
      "execution_count": 0,
      "outputs": [
        {
          "output_type": "stream",
          "text": [
            "[1, 2, 3]\n",
            "[456, 56.67]\n",
            "gnirts\n",
            "3\n",
            "7\n"
          ],
          "name": "stdout"
        }
      ]
    },
    {
      "cell_type": "code",
      "metadata": {
        "id": "Eutbg1AYpTeU",
        "colab_type": "code",
        "outputId": "edd242be-3c31-49b7-a376-1107af4f3183",
        "colab": {
          "base_uri": "https://localhost:8080/",
          "height": 34
        }
      },
      "source": [
        "#manipulating a list\n",
        "#1.adding elements\n",
        "#append can only add at the end of list\n",
        "list2=[34,45,56,67]\n",
        "list2.append(100)\n",
        "list2.append(200)\n",
        "list2.append(\"string\")\n",
        "list2.append([1,2,3])\n",
        "print(\"after adding elements:\",list2)"
      ],
      "execution_count": 0,
      "outputs": [
        {
          "output_type": "stream",
          "text": [
            "after adding elements: [34, 45, 56, 67, 100, 200, 'string', [1, 2, 3]]\n"
          ],
          "name": "stdout"
        }
      ]
    },
    {
      "cell_type": "code",
      "metadata": {
        "id": "EmmDa_CArCEA",
        "colab_type": "code",
        "outputId": "0a878d97-64ed-45d4-b848-94d694ad736e",
        "colab": {
          "base_uri": "https://localhost:8080/",
          "height": 34
        }
      },
      "source": [
        "#insert can add in bw of list\n",
        "list2.insert(1,400)\n",
        "print(list2)"
      ],
      "execution_count": 0,
      "outputs": [
        {
          "output_type": "stream",
          "text": [
            "[34, 400, 45, 56, 67, 100, 200, 'string', [1, 2, 3]]\n"
          ],
          "name": "stdout"
        }
      ]
    },
    {
      "cell_type": "code",
      "metadata": {
        "id": "Vi32EsiHruYq",
        "colab_type": "code",
        "outputId": "70801624-9e1d-4af5-817e-b1d600f4ef6c",
        "colab": {
          "base_uri": "https://localhost:8080/",
          "height": 34
        }
      },
      "source": [
        "#extend to insert multiplevalues inside a list\n",
        "list2.extend([4,5,6])\n",
        "print(list2)"
      ],
      "execution_count": 0,
      "outputs": [
        {
          "output_type": "stream",
          "text": [
            "[34, 400, 45, 56, 67, 100, 200, 'string', [1, 2, 3], 4, 5, 6, 4, 5, 6, 4, 5, 6, 4, 5, 6, 4, 5, 6]\n"
          ],
          "name": "stdout"
        }
      ]
    },
    {
      "cell_type": "code",
      "metadata": {
        "id": "IsWljZHgq4Qp",
        "colab_type": "code",
        "outputId": "6355f198-303b-4f28-8d24-68b81158293c",
        "colab": {
          "base_uri": "https://localhost:8080/",
          "height": 266
        }
      },
      "source": [
        "#removing elements from the list\n",
        "#pop()\n",
        "list2.pop()\n",
        "print(list2)\n",
        "list2.pop(1) \n",
        "print(list2)\n",
        "list2.pop(20)\n",
        "print(list2)\n",
        "\n"
      ],
      "execution_count": 0,
      "outputs": [
        {
          "output_type": "stream",
          "text": [
            "[34, 45, 56, 67, 100, 200, 'string', [1, 2, 3], 4, 5, 6, 4, 5, 6, 4, 5, 6, 4, 5]\n",
            "[34, 56, 67, 100, 200, 'string', [1, 2, 3], 4, 5, 6, 4, 5, 6, 4, 5, 6, 4, 5]\n"
          ],
          "name": "stdout"
        },
        {
          "output_type": "error",
          "ename": "IndexError",
          "evalue": "ignored",
          "traceback": [
            "\u001b[0;31m---------------------------------------------------------------------------\u001b[0m",
            "\u001b[0;31mIndexError\u001b[0m                                Traceback (most recent call last)",
            "\u001b[0;32m<ipython-input-55-bb3e6a138985>\u001b[0m in \u001b[0;36m<module>\u001b[0;34m()\u001b[0m\n\u001b[1;32m      3\u001b[0m \u001b[0mlist2\u001b[0m\u001b[0;34m.\u001b[0m\u001b[0mpop\u001b[0m\u001b[0;34m(\u001b[0m\u001b[0;36m1\u001b[0m\u001b[0;34m)\u001b[0m\u001b[0;34m\u001b[0m\u001b[0;34m\u001b[0m\u001b[0m\n\u001b[1;32m      4\u001b[0m \u001b[0mprint\u001b[0m\u001b[0;34m(\u001b[0m\u001b[0mlist2\u001b[0m\u001b[0;34m)\u001b[0m\u001b[0;34m\u001b[0m\u001b[0;34m\u001b[0m\u001b[0m\n\u001b[0;32m----> 5\u001b[0;31m \u001b[0mlist2\u001b[0m\u001b[0;34m.\u001b[0m\u001b[0mpop\u001b[0m\u001b[0;34m(\u001b[0m\u001b[0;36m20\u001b[0m\u001b[0;34m)\u001b[0m\u001b[0;34m\u001b[0m\u001b[0;34m\u001b[0m\u001b[0m\n\u001b[0m\u001b[1;32m      6\u001b[0m \u001b[0mprint\u001b[0m\u001b[0;34m(\u001b[0m\u001b[0mlist2\u001b[0m\u001b[0;34m)\u001b[0m\u001b[0;34m\u001b[0m\u001b[0;34m\u001b[0m\u001b[0m\n\u001b[1;32m      7\u001b[0m \u001b[0;34m\u001b[0m\u001b[0m\n",
            "\u001b[0;31mIndexError\u001b[0m: pop index out of range"
          ]
        }
      ]
    },
    {
      "cell_type": "code",
      "metadata": {
        "id": "T1XjX0rxuhoc",
        "colab_type": "code",
        "outputId": "5385bbc7-3559-42ac-8de6-8b125f1c63cd",
        "colab": {
          "base_uri": "https://localhost:8080/",
          "height": 34
        }
      },
      "source": [
        "#remove()\n",
        "list2.remove(100)\n",
        "print(list2)\n"
      ],
      "execution_count": 0,
      "outputs": [
        {
          "output_type": "stream",
          "text": [
            "[34, 56, 67, 200, 'string', [1, 2, 3], 4, 6, 4, 5, 6, 4, 5, 6, 4, 5]\n"
          ],
          "name": "stdout"
        }
      ]
    },
    {
      "cell_type": "code",
      "metadata": {
        "id": "duTFSZ0dvLbi",
        "colab_type": "code",
        "outputId": "b2ba8818-950a-44e9-d40a-76457f9b7849",
        "colab": {
          "base_uri": "https://localhost:8080/",
          "height": 51
        }
      },
      "source": [
        "#clear() remove all elments in the list\n",
        "list3=[7,8]\n",
        "print(list3)\n",
        "\n",
        "list3.clear()\n",
        "print(list3)\n"
      ],
      "execution_count": 0,
      "outputs": [
        {
          "output_type": "stream",
          "text": [
            "[7, 8]\n",
            "[]\n"
          ],
          "name": "stdout"
        }
      ]
    },
    {
      "cell_type": "code",
      "metadata": {
        "id": "XR02n2kcvxXr",
        "colab_type": "code",
        "colab": {
          "base_uri": "https://localhost:8080/",
          "height": 34
        },
        "outputId": "d7adafd0-e7f7-4643-f50a-0c2d969942a6"
      },
      "source": [
        "#replacing element\n",
        "list2[11]=1000\n",
        "list2"
      ],
      "execution_count": 61,
      "outputs": [
        {
          "output_type": "execute_result",
          "data": {
            "text/plain": [
              "[34, 56, 67, 200, 'string', [1, 2, 3], 4, 6, 4, 5, 6, 1000, 5, 6, 4, 5]"
            ]
          },
          "metadata": {
            "tags": []
          },
          "execution_count": 61
        }
      ]
    },
    {
      "cell_type": "code",
      "metadata": {
        "id": "lVs9xHnwv_eu",
        "colab_type": "code",
        "colab": {
          "base_uri": "https://localhost:8080/",
          "height": 85
        },
        "outputId": "7aed86d3-7d22-4928-d116-17e090992f26"
      },
      "source": [
        "#sorting a list\n",
        "list4=[1,4,63,3,4,56,32]\n",
        "list4.sort()\n",
        "print(list4)\n",
        "list5=['string','hi']\n",
        "list5.sort()\n",
        "print(list5)\n",
        "#descending ordder\n",
        "list4.sort(reverse=True)\n",
        "list5.sort(reverse=True)\n",
        "print(list4)\n",
        "print(list5)\n"
      ],
      "execution_count": 68,
      "outputs": [
        {
          "output_type": "stream",
          "text": [
            "[1, 3, 4, 4, 32, 56, 63]\n",
            "['hi', 'string']\n",
            "[63, 56, 32, 4, 4, 3, 1]\n",
            "['string', 'hi']\n"
          ],
          "name": "stdout"
        }
      ]
    },
    {
      "cell_type": "code",
      "metadata": {
        "id": "JPJU0ugUxMF4",
        "colab_type": "code",
        "colab": {
          "base_uri": "https://localhost:8080/",
          "height": 34
        },
        "outputId": "b4460226-7d8a-49d1-ac1a-bb6beb77e08e"
      },
      "source": [
        "#reversing a list\n",
        "list6=[1,2,3,4,5,6]\n",
        "list6.reverse()\n",
        "list6"
      ],
      "execution_count": 69,
      "outputs": [
        {
          "output_type": "execute_result",
          "data": {
            "text/plain": [
              "[6, 5, 4, 3, 2, 1]"
            ]
          },
          "metadata": {
            "tags": []
          },
          "execution_count": 69
        }
      ]
    },
    {
      "cell_type": "code",
      "metadata": {
        "id": "O0UkWy_zxikl",
        "colab_type": "code",
        "colab": {
          "base_uri": "https://localhost:8080/",
          "height": 34
        },
        "outputId": "64366fab-99ac-49f4-8218-b5c2055ad6c6"
      },
      "source": [
        "#index of an elenemenet in the string\n",
        "list6.index(5)\n"
      ],
      "execution_count": 70,
      "outputs": [
        {
          "output_type": "execute_result",
          "data": {
            "text/plain": [
              "1"
            ]
          },
          "metadata": {
            "tags": []
          },
          "execution_count": 70
        }
      ]
    },
    {
      "cell_type": "code",
      "metadata": {
        "id": "JdOZ0Q-ix0JZ",
        "colab_type": "code",
        "colab": {
          "base_uri": "https://localhost:8080/",
          "height": 34
        },
        "outputId": "c147eed7-62eb-4fe2-e3d6-ef3636bce38b"
      },
      "source": [
        "#count() for knowimg how times value repeated in the list\n",
        "list4.count(4)"
      ],
      "execution_count": 71,
      "outputs": [
        {
          "output_type": "execute_result",
          "data": {
            "text/plain": [
              "2"
            ]
          },
          "metadata": {
            "tags": []
          },
          "execution_count": 71
        }
      ]
    },
    {
      "cell_type": "code",
      "metadata": {
        "id": "j63RiT7NyXZt",
        "colab_type": "code",
        "colab": {
          "base_uri": "https://localhost:8080/",
          "height": 119
        },
        "outputId": "a704f6b3-fc36-41c6-98a0-4af71d638b5c"
      },
      "source": [
        "#copying a list using copy()\n",
        "list7=list6\n",
        "print(list6)\n",
        "print(list7)\n",
        "list8=list6.copy()\n",
        "print(list8)\n",
        "list6.append(100)\n",
        "print(list6)\n",
        "print(list7)\n",
        "print(list8)\n",
        "\n"
      ],
      "execution_count": 74,
      "outputs": [
        {
          "output_type": "stream",
          "text": [
            "[6, 5, 4, 3, 2, 1]\n",
            "[6, 5, 4, 3, 2, 1]\n",
            "[6, 5, 4, 3, 2, 1]\n",
            "[6, 5, 4, 3, 2, 1, 100]\n",
            "[6, 5, 4, 3, 2, 1, 100]\n",
            "[6, 5, 4, 3, 2, 1]\n"
          ],
          "name": "stdout"
        }
      ]
    },
    {
      "cell_type": "code",
      "metadata": {
        "id": "8fe9wh-M0TA9",
        "colab_type": "code",
        "colab": {
          "base_uri": "https://localhost:8080/",
          "height": 34
        },
        "outputId": "9b47937f-9cca-4fe2-dfa5-8c54acaa6665"
      },
      "source": [
        "#input:[2,4,5,7,8]     square of numbers in the lsit\n",
        "#output:[4,16,35,49,64]\n",
        "list9=[2,4,5,7,8]\n",
        "list10=[]\n",
        "for i in range(0,len(list9)):\n",
        "  \n",
        "    list10.append(list9[i]**2)\n",
        "print(list10)\n"
      ],
      "execution_count": 84,
      "outputs": [
        {
          "output_type": "stream",
          "text": [
            "[4, 16, 25, 49, 64]\n"
          ],
          "name": "stdout"
        }
      ]
    },
    {
      "cell_type": "code",
      "metadata": {
        "id": "mmLF6jWj35N6",
        "colab_type": "code",
        "colab": {
          "base_uri": "https://localhost:8080/",
          "height": 34
        },
        "outputId": "612f2c36-d5fe-43ce-cded-48b2912eff80"
      },
      "source": [
        "#print only even nos of the list\n",
        "list11=[]\n",
        "for i in range(0,len(list9)):\n",
        "    if list9[i]%2==0:\n",
        "        list11.append(list9[i])\n",
        "print(list11)   "
      ],
      "execution_count": 103,
      "outputs": [
        {
          "output_type": "stream",
          "text": [
            "[2, 4, 8]\n"
          ],
          "name": "stdout"
        }
      ]
    },
    {
      "cell_type": "code",
      "metadata": {
        "id": "yLSBlula51uD",
        "colab_type": "code",
        "colab": {
          "base_uri": "https://localhost:8080/",
          "height": 34
        },
        "outputId": "01455a0f-1083-4c84-d5b4-b95e21ccb75c"
      },
      "source": [
        "l1=[2,3,4,5,6]\n",
        "l2=[]\n",
        "for i in l1:\n",
        "    if i%2==0:\n",
        "     l2.append(i)\n",
        "print(l2)\n"
      ],
      "execution_count": 106,
      "outputs": [
        {
          "output_type": "stream",
          "text": [
            "[2, 4, 6]\n"
          ],
          "name": "stdout"
        }
      ]
    },
    {
      "cell_type": "code",
      "metadata": {
        "id": "Pb3SgI3n6Jt8",
        "colab_type": "code",
        "colab": {
          "base_uri": "https://localhost:8080/",
          "height": 119
        },
        "outputId": "79e4301d-60ec-4609-d9e0-f38da7054483"
      },
      "source": [
        "#create a list and accept values of list at runtime and print sum of all elements of the list\n",
        "list12=[]\n",
        "j=0\n",
        "n=int(input())\n",
        "for i in range(n):\n",
        "  list12.append(int(input()))\n",
        "  j=j+list12[i]\n",
        "print(j)  \n",
        "print(sum(list12))\n"
      ],
      "execution_count": 117,
      "outputs": [
        {
          "output_type": "stream",
          "text": [
            "3\n",
            "1\n",
            "2\n",
            "3\n",
            "6\n",
            "6\n"
          ],
          "name": "stdout"
        }
      ]
    },
    {
      "cell_type": "markdown",
      "metadata": {
        "id": "CKOa0ynH9qn2",
        "colab_type": "text"
      },
      "source": [
        "#tuple"
      ]
    },
    {
      "cell_type": "code",
      "metadata": {
        "id": "Y4n3YwAw9vD8",
        "colab_type": "code",
        "colab": {
          "base_uri": "https://localhost:8080/",
          "height": 51
        },
        "outputId": "62605461-b543-4547-dc78-7a72c9f6a249"
      },
      "source": [
        "#tuple\n",
        "x=23,34,45,56,67\n",
        "print(x)\n",
        "print(type(x))"
      ],
      "execution_count": 119,
      "outputs": [
        {
          "output_type": "stream",
          "text": [
            "(23, 34, 45, 56, 67)\n",
            "<class 'tuple'>\n"
          ],
          "name": "stdout"
        }
      ]
    },
    {
      "cell_type": "code",
      "metadata": {
        "id": "gOqmjY1_-Ogd",
        "colab_type": "code",
        "colab": {
          "base_uri": "https://localhost:8080/",
          "height": 34
        },
        "outputId": "8f94b6bc-237d-4511-8048-7ca2e17685dd"
      },
      "source": [
        "tup1=(23,4,5)\n",
        "x,y,z=tup1\n",
        "print(x,y,z)"
      ],
      "execution_count": 121,
      "outputs": [
        {
          "output_type": "stream",
          "text": [
            "23 4 5\n"
          ],
          "name": "stdout"
        }
      ]
    },
    {
      "cell_type": "markdown",
      "metadata": {
        "id": "nu1lAbgW_5Zp",
        "colab_type": "text"
      },
      "source": [
        "#dictionary\n",
        "##synatx:(key1:value,key2:value2,......)\n",
        "###key:\n",
        "1.key should be unique\n",
        "2.keys should be immutable...-> int,float,string,tuple"
      ]
    },
    {
      "cell_type": "code",
      "metadata": {
        "id": "U29KRWf__PHE",
        "colab_type": "code",
        "colab": {
          "base_uri": "https://localhost:8080/",
          "height": 34
        },
        "outputId": "42f942ac-784b-48b4-9869-624040fd3fd3"
      },
      "source": [
        "#dictionary\n",
        "dict1={\"name\":\"rith\",\"couse\":\"python\",\"address\":\"hyd\",(56,67):\"hh\"}\n",
        "dict1\n"
      ],
      "execution_count": 123,
      "outputs": [
        {
          "output_type": "execute_result",
          "data": {
            "text/plain": [
              "{(56, 67): 'hh', 'address': 'hyd', 'couse': 'python', 'name': 'rith'}"
            ]
          },
          "metadata": {
            "tags": []
          },
          "execution_count": 123
        }
      ]
    },
    {
      "cell_type": "code",
      "metadata": {
        "id": "LUccRpc_BU9d",
        "colab_type": "code",
        "colab": {
          "base_uri": "https://localhost:8080/",
          "height": 34
        },
        "outputId": "dab983cb-de25-4470-8be0-c8eb8baf1c6b"
      },
      "source": [
        "#dictionary\n",
        "dict1={\"name\":\"rith\",\"couse\":\"python\",\"address\":\"hyd\",(56,67):\"hh\"}\n",
        "dict1[\"couse\"]\n"
      ],
      "execution_count": 126,
      "outputs": [
        {
          "output_type": "execute_result",
          "data": {
            "text/plain": [
              "'python'"
            ]
          },
          "metadata": {
            "tags": []
          },
          "execution_count": 126
        }
      ]
    },
    {
      "cell_type": "code",
      "metadata": {
        "id": "0t5b5OjMBgpc",
        "colab_type": "code",
        "colab": {
          "base_uri": "https://localhost:8080/",
          "height": 34
        },
        "outputId": "189dac7b-0d9c-4404-cf5c-0af529943a6b"
      },
      "source": [
        "#dictionary\n",
        "dict1={\"name\":\"rith\",\"couse\":\"python\",\"address\":\"hyd\",(56,67):\"hh\"}\n",
        "dict1[\"couse\"]=\"c prog\"\n",
        "print(dict1)\n"
      ],
      "execution_count": 127,
      "outputs": [
        {
          "output_type": "stream",
          "text": [
            "{'name': 'rith', 'couse': 'c prog', 'address': 'hyd', (56, 67): 'hh'}\n"
          ],
          "name": "stdout"
        }
      ]
    },
    {
      "cell_type": "code",
      "metadata": {
        "id": "FidtprMvBq1O",
        "colab_type": "code",
        "colab": {
          "base_uri": "https://localhost:8080/",
          "height": 34
        },
        "outputId": "950014d0-c4cb-405a-d11c-1b352e718313"
      },
      "source": [
        "#adding entry\n",
        "dict1[\"college\"]=\"gitam\"\n",
        "print(dict1)"
      ],
      "execution_count": 130,
      "outputs": [
        {
          "output_type": "stream",
          "text": [
            "{'name': 'rith', 'couse': 'c prog', 'address': 'hyd', (56, 67): 'hh', 'college': 'gitam'}\n"
          ],
          "name": "stdout"
        }
      ]
    },
    {
      "cell_type": "code",
      "metadata": {
        "id": "clgPI6O1COR6",
        "colab_type": "code",
        "colab": {
          "base_uri": "https://localhost:8080/",
          "height": 34
        },
        "outputId": "26531936-9787-47cd-c24c-2b3fe011362f"
      },
      "source": [
        "#removing entry\n",
        "del dict1[\"address\"]\n",
        "print(dict1)"
      ],
      "execution_count": 131,
      "outputs": [
        {
          "output_type": "stream",
          "text": [
            "{'name': 'rith', 'couse': 'c prog', (56, 67): 'hh', 'college': 'gitam'}\n"
          ],
          "name": "stdout"
        }
      ]
    },
    {
      "cell_type": "markdown",
      "metadata": {
        "id": "hJhsOrtgES4w",
        "colab_type": "text"
      },
      "source": [
        "#function\n",
        "##def name_of_the_function(arg list)\n",
        "### staments\n",
        "###return"
      ]
    },
    {
      "cell_type": "code",
      "metadata": {
        "id": "5xDdlVpYEOay",
        "colab_type": "code",
        "colab": {
          "base_uri": "https://localhost:8080/",
          "height": 51
        },
        "outputId": "76c297aa-c09e-490d-8d4f-9aae250ffdad"
      },
      "source": [
        "def add(x,y):#fun defination\n",
        "  return x+y\n",
        "print(add(10,20))#function calling\n",
        "print(add(100,200))"
      ],
      "execution_count": 132,
      "outputs": [
        {
          "output_type": "stream",
          "text": [
            "30\n",
            "300\n"
          ],
          "name": "stdout"
        }
      ]
    },
    {
      "cell_type": "code",
      "metadata": {
        "id": "WeI3THOwFUEF",
        "colab_type": "code",
        "colab": {
          "base_uri": "https://localhost:8080/",
          "height": 85
        },
        "outputId": "c5f1bdf5-3d3f-4a6f-fc57-a6e09c8762ca"
      },
      "source": [
        "def add(x,y):#fun defination\n",
        "  print(x+y)\n",
        "print(add(10,20))#function calling\n",
        "print(add(100,200))"
      ],
      "execution_count": 133,
      "outputs": [
        {
          "output_type": "stream",
          "text": [
            "30\n",
            "None\n",
            "300\n",
            "None\n"
          ],
          "name": "stdout"
        }
      ]
    },
    {
      "cell_type": "code",
      "metadata": {
        "id": "L20WA-W0F757",
        "colab_type": "code",
        "colab": {
          "base_uri": "https://localhost:8080/",
          "height": 34
        },
        "outputId": "9d8ddb7c-1147-4f40-eb06-2f626dccd3b3"
      },
      "source": [
        "def square(x):\n",
        "  return x*x\n",
        "def cube(x):\n",
        "  return square(x)*x\n",
        "print(cube(3))  \n",
        "\n"
      ],
      "execution_count": 134,
      "outputs": [
        {
          "output_type": "stream",
          "text": [
            "27\n"
          ],
          "name": "stdout"
        }
      ]
    },
    {
      "cell_type": "code",
      "metadata": {
        "id": "vA0L5d0mHC11",
        "colab_type": "code",
        "colab": {}
      },
      "source": [
        ""
      ],
      "execution_count": 0,
      "outputs": []
    }
  ]
}